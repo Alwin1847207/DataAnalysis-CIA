{
  "nbformat": 4,
  "nbformat_minor": 0,
  "metadata": {
    "colab": {
      "name": "CIA_2-DA-1847207.ipynb",
      "provenance": [],
      "collapsed_sections": [
        "coIGxgVTBKEN",
        "xuIT6bdfBPqe",
        "yb7jeTM0DBjp",
        "Asn0XjhiL9Gw"
      ],
      "authorship_tag": "ABX9TyOjA0yeBa0ihwUWCUEHJIfB",
      "include_colab_link": true
    },
    "kernelspec": {
      "name": "python3",
      "display_name": "Python 3"
    }
  },
  "cells": [
    {
      "cell_type": "markdown",
      "metadata": {
        "id": "view-in-github",
        "colab_type": "text"
      },
      "source": [
        "<a href=\"https://colab.research.google.com/github/Alwin1847207/DataAnalysis-CIA/blob/master/CIA_2_DA_1847207.ipynb\" target=\"_parent\"><img src=\"https://colab.research.google.com/assets/colab-badge.svg\" alt=\"Open In Colab\"/></a>"
      ]
    },
    {
      "cell_type": "markdown",
      "metadata": {
        "id": "coIGxgVTBKEN",
        "colab_type": "text"
      },
      "source": [
        "# Question"
      ]
    },
    {
      "cell_type": "markdown",
      "metadata": {
        "id": "gPfRvhmnBMh-",
        "colab_type": "text"
      },
      "source": [
        "Download the dataset attached. Use the column 'type' as target column and perform the following:\n",
        "1. Describe the data (statistics of data set) - 4 marks\n",
        "2. Visualize the data (histograms, box plots, scatter plots, bar charts, heat map, etc) - 4 marks\n",
        "3. Preprocess the data (removal or imputation of NaNs/errors/outliers, encoding, generating new useful features, etc) - 4 marks\n",
        "4. Implement any one classifier (Decision tree, K-nearest neighbor, Naive bayes, SVM, Artiificial Neural Network, etc) - 4 marks\n",
        "5. Cross validate the classifier and print the results (number of True Positives, True Negatives, False Positives and False Negatives, Accuracy, Precision, Recall) - 4 marks"
      ]
    },
    {
      "cell_type": "markdown",
      "metadata": {
        "id": "xuIT6bdfBPqe",
        "colab_type": "text"
      },
      "source": [
        "# Describe the data "
      ]
    },
    {
      "cell_type": "markdown",
      "metadata": {
        "id": "SZkyc73KBp4n",
        "colab_type": "text"
      },
      "source": [
        "Importing the required libraries"
      ]
    },
    {
      "cell_type": "code",
      "metadata": {
        "id": "b35r0TxPBGty",
        "colab_type": "code",
        "colab": {}
      },
      "source": [
        "import pandas as pd\n",
        "import numpy as np"
      ],
      "execution_count": 1,
      "outputs": []
    },
    {
      "cell_type": "markdown",
      "metadata": {
        "id": "OSxmMP8cBtey",
        "colab_type": "text"
      },
      "source": [
        "Reading the file"
      ]
    },
    {
      "cell_type": "code",
      "metadata": {
        "id": "txpFEqLSBXnO",
        "colab_type": "code",
        "colab": {
          "base_uri": "https://localhost:8080/",
          "height": 208
        },
        "outputId": "f05475b8-68fc-4a56-f148-1812400373d1"
      },
      "source": [
        "data_set = pd.read_csv('data_set.csv')\n",
        "print(data_set.head(10))"
      ],
      "execution_count": 2,
      "outputs": [
        {
          "output_type": "stream",
          "text": [
            "   id       b_l       r_f       h_l       h_c    c_l   type\n",
            "0   0  0.354512  0.350839  0.465761  0.781142  clear   Rice\n",
            "1   1  0.575560  0.425868  0.531401  0.439899  green  Wheat\n",
            "2   2  0.467875  0.354330  0.811616  0.791225  black   Rice\n",
            "3   4  0.776652  0.508723  0.636766  0.884464  black   Rice\n",
            "4   5  0.566117 -0.875862  0.418594  0.636438  green  Maize\n",
            "5   7  0.405680  0.253277  0.441420  0.280324  green  Wheat\n",
            "6   8  0.399331  0.568952  0.618391  0.467901  white  Wheat\n",
            "7  11  0.516224  0.536429  0.612776  0.468048  clear   Rice\n",
            "8  12  0.314295  0.671280  0.417267  0.227548   blue  Maize\n",
            "9  19  0.280942  0.701457  0.179633  0.141183  white  Maize\n"
          ],
          "name": "stdout"
        }
      ]
    },
    {
      "cell_type": "markdown",
      "metadata": {
        "id": "pl7Kzzh4BXCE",
        "colab_type": "text"
      },
      "source": [
        "Understnading the structure of the dataset"
      ]
    },
    {
      "cell_type": "code",
      "metadata": {
        "id": "ZlCpZYpQB2zM",
        "colab_type": "code",
        "colab": {
          "base_uri": "https://localhost:8080/",
          "height": 34
        },
        "outputId": "79f57fd0-86ef-4ed5-e4a0-5c8825a5abae"
      },
      "source": [
        "data_set.shape"
      ],
      "execution_count": 3,
      "outputs": [
        {
          "output_type": "execute_result",
          "data": {
            "text/plain": [
              "(371, 7)"
            ]
          },
          "metadata": {
            "tags": []
          },
          "execution_count": 3
        }
      ]
    },
    {
      "cell_type": "markdown",
      "metadata": {
        "id": "dm6dN6OAB8FO",
        "colab_type": "text"
      },
      "source": [
        "Datatypes in  the dataset"
      ]
    },
    {
      "cell_type": "code",
      "metadata": {
        "id": "rWRYSY4sB5sc",
        "colab_type": "code",
        "colab": {
          "base_uri": "https://localhost:8080/",
          "height": 156
        },
        "outputId": "e5bf991d-8064-44d8-be97-81e30167daa8"
      },
      "source": [
        "data_set.dtypes"
      ],
      "execution_count": 4,
      "outputs": [
        {
          "output_type": "execute_result",
          "data": {
            "text/plain": [
              "id        int64\n",
              "b_l     float64\n",
              "r_f     float64\n",
              "h_l     float64\n",
              "h_c     float64\n",
              "c_l      object\n",
              "type     object\n",
              "dtype: object"
            ]
          },
          "metadata": {
            "tags": []
          },
          "execution_count": 4
        }
      ]
    },
    {
      "cell_type": "markdown",
      "metadata": {
        "id": "LKzQDwNsCEpi",
        "colab_type": "text"
      },
      "source": [
        "Describing the data"
      ]
    },
    {
      "cell_type": "code",
      "metadata": {
        "id": "QSjk3LfzB-gI",
        "colab_type": "code",
        "colab": {
          "base_uri": "https://localhost:8080/",
          "height": 300
        },
        "outputId": "d87195b1-16e9-4ba7-b8c1-7d81419c83ac"
      },
      "source": [
        "data_set.describe(include = \"all\")"
      ],
      "execution_count": 53,
      "outputs": [
        {
          "output_type": "execute_result",
          "data": {
            "text/html": [
              "<div>\n",
              "<style scoped>\n",
              "    .dataframe tbody tr th:only-of-type {\n",
              "        vertical-align: middle;\n",
              "    }\n",
              "\n",
              "    .dataframe tbody tr th {\n",
              "        vertical-align: top;\n",
              "    }\n",
              "\n",
              "    .dataframe thead th {\n",
              "        text-align: right;\n",
              "    }\n",
              "</style>\n",
              "<table border=\"1\" class=\"dataframe\">\n",
              "  <thead>\n",
              "    <tr style=\"text-align: right;\">\n",
              "      <th></th>\n",
              "      <th>b_l</th>\n",
              "      <th>r_f</th>\n",
              "      <th>h_l</th>\n",
              "      <th>h_c</th>\n",
              "      <th>c_l</th>\n",
              "      <th>type</th>\n",
              "    </tr>\n",
              "  </thead>\n",
              "  <tbody>\n",
              "    <tr>\n",
              "      <th>count</th>\n",
              "      <td>371.000000</td>\n",
              "      <td>371.000000</td>\n",
              "      <td>371.000000</td>\n",
              "      <td>371.000000</td>\n",
              "      <td>371.000000</td>\n",
              "      <td>371.000000</td>\n",
              "    </tr>\n",
              "    <tr>\n",
              "      <th>mean</th>\n",
              "      <td>0.434160</td>\n",
              "      <td>0.506848</td>\n",
              "      <td>0.529114</td>\n",
              "      <td>0.471392</td>\n",
              "      <td>3.404313</td>\n",
              "      <td>1.021563</td>\n",
              "    </tr>\n",
              "    <tr>\n",
              "      <th>std</th>\n",
              "      <td>0.132833</td>\n",
              "      <td>0.146358</td>\n",
              "      <td>0.169902</td>\n",
              "      <td>0.176129</td>\n",
              "      <td>1.615259</td>\n",
              "      <td>0.808448</td>\n",
              "    </tr>\n",
              "    <tr>\n",
              "      <th>min</th>\n",
              "      <td>0.061032</td>\n",
              "      <td>0.095687</td>\n",
              "      <td>0.134600</td>\n",
              "      <td>0.009402</td>\n",
              "      <td>0.000000</td>\n",
              "      <td>0.000000</td>\n",
              "    </tr>\n",
              "    <tr>\n",
              "      <th>25%</th>\n",
              "      <td>0.340006</td>\n",
              "      <td>0.414812</td>\n",
              "      <td>0.407428</td>\n",
              "      <td>0.348002</td>\n",
              "      <td>3.000000</td>\n",
              "      <td>0.000000</td>\n",
              "    </tr>\n",
              "    <tr>\n",
              "      <th>50%</th>\n",
              "      <td>0.434891</td>\n",
              "      <td>0.501552</td>\n",
              "      <td>0.538642</td>\n",
              "      <td>0.466372</td>\n",
              "      <td>3.000000</td>\n",
              "      <td>1.000000</td>\n",
              "    </tr>\n",
              "    <tr>\n",
              "      <th>75%</th>\n",
              "      <td>0.517223</td>\n",
              "      <td>0.603977</td>\n",
              "      <td>0.647244</td>\n",
              "      <td>0.600610</td>\n",
              "      <td>5.000000</td>\n",
              "      <td>2.000000</td>\n",
              "    </tr>\n",
              "    <tr>\n",
              "      <th>max</th>\n",
              "      <td>0.817001</td>\n",
              "      <td>0.932466</td>\n",
              "      <td>1.000000</td>\n",
              "      <td>0.935721</td>\n",
              "      <td>5.000000</td>\n",
              "      <td>2.000000</td>\n",
              "    </tr>\n",
              "  </tbody>\n",
              "</table>\n",
              "</div>"
            ],
            "text/plain": [
              "              b_l         r_f         h_l         h_c         c_l        type\n",
              "count  371.000000  371.000000  371.000000  371.000000  371.000000  371.000000\n",
              "mean     0.434160    0.506848    0.529114    0.471392    3.404313    1.021563\n",
              "std      0.132833    0.146358    0.169902    0.176129    1.615259    0.808448\n",
              "min      0.061032    0.095687    0.134600    0.009402    0.000000    0.000000\n",
              "25%      0.340006    0.414812    0.407428    0.348002    3.000000    0.000000\n",
              "50%      0.434891    0.501552    0.538642    0.466372    3.000000    1.000000\n",
              "75%      0.517223    0.603977    0.647244    0.600610    5.000000    2.000000\n",
              "max      0.817001    0.932466    1.000000    0.935721    5.000000    2.000000"
            ]
          },
          "metadata": {
            "tags": []
          },
          "execution_count": 53
        }
      ]
    },
    {
      "cell_type": "markdown",
      "metadata": {
        "id": "sNcQs8pACJ2h",
        "colab_type": "text"
      },
      "source": [
        "Finding the info of the attributes and data set"
      ]
    },
    {
      "cell_type": "code",
      "metadata": {
        "id": "q8BWgRvjCHuI",
        "colab_type": "code",
        "colab": {
          "base_uri": "https://localhost:8080/",
          "height": 260
        },
        "outputId": "aa974650-505e-4a85-8ac6-72f2a16ba57e"
      },
      "source": [
        "data_set.info()"
      ],
      "execution_count": 6,
      "outputs": [
        {
          "output_type": "stream",
          "text": [
            "<class 'pandas.core.frame.DataFrame'>\n",
            "RangeIndex: 371 entries, 0 to 370\n",
            "Data columns (total 7 columns):\n",
            " #   Column  Non-Null Count  Dtype  \n",
            "---  ------  --------------  -----  \n",
            " 0   id      371 non-null    int64  \n",
            " 1   b_l     371 non-null    float64\n",
            " 2   r_f     371 non-null    float64\n",
            " 3   h_l     371 non-null    float64\n",
            " 4   h_c     371 non-null    float64\n",
            " 5   c_l     371 non-null    object \n",
            " 6   type    371 non-null    object \n",
            "dtypes: float64(4), int64(1), object(2)\n",
            "memory usage: 20.4+ KB\n"
          ],
          "name": "stdout"
        }
      ]
    },
    {
      "cell_type": "markdown",
      "metadata": {
        "id": "pnHeZzgcCVMU",
        "colab_type": "text"
      },
      "source": [
        "Getting the list of columns"
      ]
    },
    {
      "cell_type": "code",
      "metadata": {
        "id": "8YA48zljCPWM",
        "colab_type": "code",
        "colab": {
          "base_uri": "https://localhost:8080/",
          "height": 34
        },
        "outputId": "8198b547-1dab-475b-bf4f-bd8218c45fea"
      },
      "source": [
        "data_set.columns"
      ],
      "execution_count": 7,
      "outputs": [
        {
          "output_type": "execute_result",
          "data": {
            "text/plain": [
              "Index(['id', 'b_l', 'r_f', 'h_l', 'h_c', 'c_l', 'type'], dtype='object')"
            ]
          },
          "metadata": {
            "tags": []
          },
          "execution_count": 7
        }
      ]
    },
    {
      "cell_type": "markdown",
      "metadata": {
        "id": "Hfm_If11Ccid",
        "colab_type": "text"
      },
      "source": [
        "Checking for null values"
      ]
    },
    {
      "cell_type": "code",
      "metadata": {
        "id": "pQXAphnpCY_2",
        "colab_type": "code",
        "colab": {
          "base_uri": "https://localhost:8080/",
          "height": 424
        },
        "outputId": "a2c72f1a-b6a5-4aa5-8aa2-55f878e44509"
      },
      "source": [
        "data_set.isnull()"
      ],
      "execution_count": 8,
      "outputs": [
        {
          "output_type": "execute_result",
          "data": {
            "text/html": [
              "<div>\n",
              "<style scoped>\n",
              "    .dataframe tbody tr th:only-of-type {\n",
              "        vertical-align: middle;\n",
              "    }\n",
              "\n",
              "    .dataframe tbody tr th {\n",
              "        vertical-align: top;\n",
              "    }\n",
              "\n",
              "    .dataframe thead th {\n",
              "        text-align: right;\n",
              "    }\n",
              "</style>\n",
              "<table border=\"1\" class=\"dataframe\">\n",
              "  <thead>\n",
              "    <tr style=\"text-align: right;\">\n",
              "      <th></th>\n",
              "      <th>id</th>\n",
              "      <th>b_l</th>\n",
              "      <th>r_f</th>\n",
              "      <th>h_l</th>\n",
              "      <th>h_c</th>\n",
              "      <th>c_l</th>\n",
              "      <th>type</th>\n",
              "    </tr>\n",
              "  </thead>\n",
              "  <tbody>\n",
              "    <tr>\n",
              "      <th>0</th>\n",
              "      <td>False</td>\n",
              "      <td>False</td>\n",
              "      <td>False</td>\n",
              "      <td>False</td>\n",
              "      <td>False</td>\n",
              "      <td>False</td>\n",
              "      <td>False</td>\n",
              "    </tr>\n",
              "    <tr>\n",
              "      <th>1</th>\n",
              "      <td>False</td>\n",
              "      <td>False</td>\n",
              "      <td>False</td>\n",
              "      <td>False</td>\n",
              "      <td>False</td>\n",
              "      <td>False</td>\n",
              "      <td>False</td>\n",
              "    </tr>\n",
              "    <tr>\n",
              "      <th>2</th>\n",
              "      <td>False</td>\n",
              "      <td>False</td>\n",
              "      <td>False</td>\n",
              "      <td>False</td>\n",
              "      <td>False</td>\n",
              "      <td>False</td>\n",
              "      <td>False</td>\n",
              "    </tr>\n",
              "    <tr>\n",
              "      <th>3</th>\n",
              "      <td>False</td>\n",
              "      <td>False</td>\n",
              "      <td>False</td>\n",
              "      <td>False</td>\n",
              "      <td>False</td>\n",
              "      <td>False</td>\n",
              "      <td>False</td>\n",
              "    </tr>\n",
              "    <tr>\n",
              "      <th>4</th>\n",
              "      <td>False</td>\n",
              "      <td>False</td>\n",
              "      <td>False</td>\n",
              "      <td>False</td>\n",
              "      <td>False</td>\n",
              "      <td>False</td>\n",
              "      <td>False</td>\n",
              "    </tr>\n",
              "    <tr>\n",
              "      <th>...</th>\n",
              "      <td>...</td>\n",
              "      <td>...</td>\n",
              "      <td>...</td>\n",
              "      <td>...</td>\n",
              "      <td>...</td>\n",
              "      <td>...</td>\n",
              "      <td>...</td>\n",
              "    </tr>\n",
              "    <tr>\n",
              "      <th>366</th>\n",
              "      <td>False</td>\n",
              "      <td>False</td>\n",
              "      <td>False</td>\n",
              "      <td>False</td>\n",
              "      <td>False</td>\n",
              "      <td>False</td>\n",
              "      <td>False</td>\n",
              "    </tr>\n",
              "    <tr>\n",
              "      <th>367</th>\n",
              "      <td>False</td>\n",
              "      <td>False</td>\n",
              "      <td>False</td>\n",
              "      <td>False</td>\n",
              "      <td>False</td>\n",
              "      <td>False</td>\n",
              "      <td>False</td>\n",
              "    </tr>\n",
              "    <tr>\n",
              "      <th>368</th>\n",
              "      <td>False</td>\n",
              "      <td>False</td>\n",
              "      <td>False</td>\n",
              "      <td>False</td>\n",
              "      <td>False</td>\n",
              "      <td>False</td>\n",
              "      <td>False</td>\n",
              "    </tr>\n",
              "    <tr>\n",
              "      <th>369</th>\n",
              "      <td>False</td>\n",
              "      <td>False</td>\n",
              "      <td>False</td>\n",
              "      <td>False</td>\n",
              "      <td>False</td>\n",
              "      <td>False</td>\n",
              "      <td>False</td>\n",
              "    </tr>\n",
              "    <tr>\n",
              "      <th>370</th>\n",
              "      <td>False</td>\n",
              "      <td>False</td>\n",
              "      <td>False</td>\n",
              "      <td>False</td>\n",
              "      <td>False</td>\n",
              "      <td>False</td>\n",
              "      <td>False</td>\n",
              "    </tr>\n",
              "  </tbody>\n",
              "</table>\n",
              "<p>371 rows × 7 columns</p>\n",
              "</div>"
            ],
            "text/plain": [
              "        id    b_l    r_f    h_l    h_c    c_l   type\n",
              "0    False  False  False  False  False  False  False\n",
              "1    False  False  False  False  False  False  False\n",
              "2    False  False  False  False  False  False  False\n",
              "3    False  False  False  False  False  False  False\n",
              "4    False  False  False  False  False  False  False\n",
              "..     ...    ...    ...    ...    ...    ...    ...\n",
              "366  False  False  False  False  False  False  False\n",
              "367  False  False  False  False  False  False  False\n",
              "368  False  False  False  False  False  False  False\n",
              "369  False  False  False  False  False  False  False\n",
              "370  False  False  False  False  False  False  False\n",
              "\n",
              "[371 rows x 7 columns]"
            ]
          },
          "metadata": {
            "tags": []
          },
          "execution_count": 8
        }
      ]
    },
    {
      "cell_type": "markdown",
      "metadata": {
        "id": "tOh3j3mZCoFg",
        "colab_type": "text"
      },
      "source": [
        "Validating for null values"
      ]
    },
    {
      "cell_type": "code",
      "metadata": {
        "id": "4wNIzGXaCiN0",
        "colab_type": "code",
        "colab": {
          "base_uri": "https://localhost:8080/",
          "height": 156
        },
        "outputId": "795ff08e-7453-41eb-9364-47da6227b958"
      },
      "source": [
        "data_set.isnull().sum()"
      ],
      "execution_count": 9,
      "outputs": [
        {
          "output_type": "execute_result",
          "data": {
            "text/plain": [
              "id      0\n",
              "b_l     0\n",
              "r_f     0\n",
              "h_l     0\n",
              "h_c     0\n",
              "c_l     0\n",
              "type    0\n",
              "dtype: int64"
            ]
          },
          "metadata": {
            "tags": []
          },
          "execution_count": 9
        }
      ]
    },
    {
      "cell_type": "markdown",
      "metadata": {
        "id": "El5UCqFRCseT",
        "colab_type": "text"
      },
      "source": [
        "Verifing the existance of null values"
      ]
    },
    {
      "cell_type": "code",
      "metadata": {
        "id": "3lktVhKyCjCJ",
        "colab_type": "code",
        "colab": {
          "base_uri": "https://localhost:8080/",
          "height": 34
        },
        "outputId": "c948ca4f-df83-4046-8e4b-874ca8cec3df"
      },
      "source": [
        "data_set.isnull().values.any()"
      ],
      "execution_count": 10,
      "outputs": [
        {
          "output_type": "execute_result",
          "data": {
            "text/plain": [
              "False"
            ]
          },
          "metadata": {
            "tags": []
          },
          "execution_count": 10
        }
      ]
    },
    {
      "cell_type": "markdown",
      "metadata": {
        "id": "h3XM10WfC7yD",
        "colab_type": "text"
      },
      "source": [
        "Viewing the dataset"
      ]
    },
    {
      "cell_type": "code",
      "metadata": {
        "id": "qAgxzaE6CvmQ",
        "colab_type": "code",
        "colab": {
          "base_uri": "https://localhost:8080/",
          "height": 363
        },
        "outputId": "e941e5cc-ed42-44fd-9ec9-da89374c8689"
      },
      "source": [
        "data_set.head(10)"
      ],
      "execution_count": 11,
      "outputs": [
        {
          "output_type": "execute_result",
          "data": {
            "text/html": [
              "<div>\n",
              "<style scoped>\n",
              "    .dataframe tbody tr th:only-of-type {\n",
              "        vertical-align: middle;\n",
              "    }\n",
              "\n",
              "    .dataframe tbody tr th {\n",
              "        vertical-align: top;\n",
              "    }\n",
              "\n",
              "    .dataframe thead th {\n",
              "        text-align: right;\n",
              "    }\n",
              "</style>\n",
              "<table border=\"1\" class=\"dataframe\">\n",
              "  <thead>\n",
              "    <tr style=\"text-align: right;\">\n",
              "      <th></th>\n",
              "      <th>id</th>\n",
              "      <th>b_l</th>\n",
              "      <th>r_f</th>\n",
              "      <th>h_l</th>\n",
              "      <th>h_c</th>\n",
              "      <th>c_l</th>\n",
              "      <th>type</th>\n",
              "    </tr>\n",
              "  </thead>\n",
              "  <tbody>\n",
              "    <tr>\n",
              "      <th>0</th>\n",
              "      <td>0</td>\n",
              "      <td>0.354512</td>\n",
              "      <td>0.350839</td>\n",
              "      <td>0.465761</td>\n",
              "      <td>0.781142</td>\n",
              "      <td>clear</td>\n",
              "      <td>Rice</td>\n",
              "    </tr>\n",
              "    <tr>\n",
              "      <th>1</th>\n",
              "      <td>1</td>\n",
              "      <td>0.575560</td>\n",
              "      <td>0.425868</td>\n",
              "      <td>0.531401</td>\n",
              "      <td>0.439899</td>\n",
              "      <td>green</td>\n",
              "      <td>Wheat</td>\n",
              "    </tr>\n",
              "    <tr>\n",
              "      <th>2</th>\n",
              "      <td>2</td>\n",
              "      <td>0.467875</td>\n",
              "      <td>0.354330</td>\n",
              "      <td>0.811616</td>\n",
              "      <td>0.791225</td>\n",
              "      <td>black</td>\n",
              "      <td>Rice</td>\n",
              "    </tr>\n",
              "    <tr>\n",
              "      <th>3</th>\n",
              "      <td>4</td>\n",
              "      <td>0.776652</td>\n",
              "      <td>0.508723</td>\n",
              "      <td>0.636766</td>\n",
              "      <td>0.884464</td>\n",
              "      <td>black</td>\n",
              "      <td>Rice</td>\n",
              "    </tr>\n",
              "    <tr>\n",
              "      <th>4</th>\n",
              "      <td>5</td>\n",
              "      <td>0.566117</td>\n",
              "      <td>-0.875862</td>\n",
              "      <td>0.418594</td>\n",
              "      <td>0.636438</td>\n",
              "      <td>green</td>\n",
              "      <td>Maize</td>\n",
              "    </tr>\n",
              "    <tr>\n",
              "      <th>5</th>\n",
              "      <td>7</td>\n",
              "      <td>0.405680</td>\n",
              "      <td>0.253277</td>\n",
              "      <td>0.441420</td>\n",
              "      <td>0.280324</td>\n",
              "      <td>green</td>\n",
              "      <td>Wheat</td>\n",
              "    </tr>\n",
              "    <tr>\n",
              "      <th>6</th>\n",
              "      <td>8</td>\n",
              "      <td>0.399331</td>\n",
              "      <td>0.568952</td>\n",
              "      <td>0.618391</td>\n",
              "      <td>0.467901</td>\n",
              "      <td>white</td>\n",
              "      <td>Wheat</td>\n",
              "    </tr>\n",
              "    <tr>\n",
              "      <th>7</th>\n",
              "      <td>11</td>\n",
              "      <td>0.516224</td>\n",
              "      <td>0.536429</td>\n",
              "      <td>0.612776</td>\n",
              "      <td>0.468048</td>\n",
              "      <td>clear</td>\n",
              "      <td>Rice</td>\n",
              "    </tr>\n",
              "    <tr>\n",
              "      <th>8</th>\n",
              "      <td>12</td>\n",
              "      <td>0.314295</td>\n",
              "      <td>0.671280</td>\n",
              "      <td>0.417267</td>\n",
              "      <td>0.227548</td>\n",
              "      <td>blue</td>\n",
              "      <td>Maize</td>\n",
              "    </tr>\n",
              "    <tr>\n",
              "      <th>9</th>\n",
              "      <td>19</td>\n",
              "      <td>0.280942</td>\n",
              "      <td>0.701457</td>\n",
              "      <td>0.179633</td>\n",
              "      <td>0.141183</td>\n",
              "      <td>white</td>\n",
              "      <td>Maize</td>\n",
              "    </tr>\n",
              "  </tbody>\n",
              "</table>\n",
              "</div>"
            ],
            "text/plain": [
              "   id       b_l       r_f       h_l       h_c    c_l   type\n",
              "0   0  0.354512  0.350839  0.465761  0.781142  clear   Rice\n",
              "1   1  0.575560  0.425868  0.531401  0.439899  green  Wheat\n",
              "2   2  0.467875  0.354330  0.811616  0.791225  black   Rice\n",
              "3   4  0.776652  0.508723  0.636766  0.884464  black   Rice\n",
              "4   5  0.566117 -0.875862  0.418594  0.636438  green  Maize\n",
              "5   7  0.405680  0.253277  0.441420  0.280324  green  Wheat\n",
              "6   8  0.399331  0.568952  0.618391  0.467901  white  Wheat\n",
              "7  11  0.516224  0.536429  0.612776  0.468048  clear   Rice\n",
              "8  12  0.314295  0.671280  0.417267  0.227548   blue  Maize\n",
              "9  19  0.280942  0.701457  0.179633  0.141183  white  Maize"
            ]
          },
          "metadata": {
            "tags": []
          },
          "execution_count": 11
        }
      ]
    },
    {
      "cell_type": "code",
      "metadata": {
        "id": "zXfGxvshC_hG",
        "colab_type": "code",
        "colab": {}
      },
      "source": [
        ""
      ],
      "execution_count": 11,
      "outputs": []
    },
    {
      "cell_type": "markdown",
      "metadata": {
        "id": "yb7jeTM0DBjp",
        "colab_type": "text"
      },
      "source": [
        "# Visualize the data (histograms, box plots, scatter plots, bar charts, heat map, etc)"
      ]
    },
    {
      "cell_type": "code",
      "metadata": {
        "id": "suKmTNVbDF4h",
        "colab_type": "code",
        "colab": {
          "base_uri": "https://localhost:8080/",
          "height": 363
        },
        "outputId": "4e3a8d64-2d43-40ed-c99c-6f4dd0efba42"
      },
      "source": [
        "data_set.head(10)"
      ],
      "execution_count": 12,
      "outputs": [
        {
          "output_type": "execute_result",
          "data": {
            "text/html": [
              "<div>\n",
              "<style scoped>\n",
              "    .dataframe tbody tr th:only-of-type {\n",
              "        vertical-align: middle;\n",
              "    }\n",
              "\n",
              "    .dataframe tbody tr th {\n",
              "        vertical-align: top;\n",
              "    }\n",
              "\n",
              "    .dataframe thead th {\n",
              "        text-align: right;\n",
              "    }\n",
              "</style>\n",
              "<table border=\"1\" class=\"dataframe\">\n",
              "  <thead>\n",
              "    <tr style=\"text-align: right;\">\n",
              "      <th></th>\n",
              "      <th>id</th>\n",
              "      <th>b_l</th>\n",
              "      <th>r_f</th>\n",
              "      <th>h_l</th>\n",
              "      <th>h_c</th>\n",
              "      <th>c_l</th>\n",
              "      <th>type</th>\n",
              "    </tr>\n",
              "  </thead>\n",
              "  <tbody>\n",
              "    <tr>\n",
              "      <th>0</th>\n",
              "      <td>0</td>\n",
              "      <td>0.354512</td>\n",
              "      <td>0.350839</td>\n",
              "      <td>0.465761</td>\n",
              "      <td>0.781142</td>\n",
              "      <td>clear</td>\n",
              "      <td>Rice</td>\n",
              "    </tr>\n",
              "    <tr>\n",
              "      <th>1</th>\n",
              "      <td>1</td>\n",
              "      <td>0.575560</td>\n",
              "      <td>0.425868</td>\n",
              "      <td>0.531401</td>\n",
              "      <td>0.439899</td>\n",
              "      <td>green</td>\n",
              "      <td>Wheat</td>\n",
              "    </tr>\n",
              "    <tr>\n",
              "      <th>2</th>\n",
              "      <td>2</td>\n",
              "      <td>0.467875</td>\n",
              "      <td>0.354330</td>\n",
              "      <td>0.811616</td>\n",
              "      <td>0.791225</td>\n",
              "      <td>black</td>\n",
              "      <td>Rice</td>\n",
              "    </tr>\n",
              "    <tr>\n",
              "      <th>3</th>\n",
              "      <td>4</td>\n",
              "      <td>0.776652</td>\n",
              "      <td>0.508723</td>\n",
              "      <td>0.636766</td>\n",
              "      <td>0.884464</td>\n",
              "      <td>black</td>\n",
              "      <td>Rice</td>\n",
              "    </tr>\n",
              "    <tr>\n",
              "      <th>4</th>\n",
              "      <td>5</td>\n",
              "      <td>0.566117</td>\n",
              "      <td>-0.875862</td>\n",
              "      <td>0.418594</td>\n",
              "      <td>0.636438</td>\n",
              "      <td>green</td>\n",
              "      <td>Maize</td>\n",
              "    </tr>\n",
              "    <tr>\n",
              "      <th>5</th>\n",
              "      <td>7</td>\n",
              "      <td>0.405680</td>\n",
              "      <td>0.253277</td>\n",
              "      <td>0.441420</td>\n",
              "      <td>0.280324</td>\n",
              "      <td>green</td>\n",
              "      <td>Wheat</td>\n",
              "    </tr>\n",
              "    <tr>\n",
              "      <th>6</th>\n",
              "      <td>8</td>\n",
              "      <td>0.399331</td>\n",
              "      <td>0.568952</td>\n",
              "      <td>0.618391</td>\n",
              "      <td>0.467901</td>\n",
              "      <td>white</td>\n",
              "      <td>Wheat</td>\n",
              "    </tr>\n",
              "    <tr>\n",
              "      <th>7</th>\n",
              "      <td>11</td>\n",
              "      <td>0.516224</td>\n",
              "      <td>0.536429</td>\n",
              "      <td>0.612776</td>\n",
              "      <td>0.468048</td>\n",
              "      <td>clear</td>\n",
              "      <td>Rice</td>\n",
              "    </tr>\n",
              "    <tr>\n",
              "      <th>8</th>\n",
              "      <td>12</td>\n",
              "      <td>0.314295</td>\n",
              "      <td>0.671280</td>\n",
              "      <td>0.417267</td>\n",
              "      <td>0.227548</td>\n",
              "      <td>blue</td>\n",
              "      <td>Maize</td>\n",
              "    </tr>\n",
              "    <tr>\n",
              "      <th>9</th>\n",
              "      <td>19</td>\n",
              "      <td>0.280942</td>\n",
              "      <td>0.701457</td>\n",
              "      <td>0.179633</td>\n",
              "      <td>0.141183</td>\n",
              "      <td>white</td>\n",
              "      <td>Maize</td>\n",
              "    </tr>\n",
              "  </tbody>\n",
              "</table>\n",
              "</div>"
            ],
            "text/plain": [
              "   id       b_l       r_f       h_l       h_c    c_l   type\n",
              "0   0  0.354512  0.350839  0.465761  0.781142  clear   Rice\n",
              "1   1  0.575560  0.425868  0.531401  0.439899  green  Wheat\n",
              "2   2  0.467875  0.354330  0.811616  0.791225  black   Rice\n",
              "3   4  0.776652  0.508723  0.636766  0.884464  black   Rice\n",
              "4   5  0.566117 -0.875862  0.418594  0.636438  green  Maize\n",
              "5   7  0.405680  0.253277  0.441420  0.280324  green  Wheat\n",
              "6   8  0.399331  0.568952  0.618391  0.467901  white  Wheat\n",
              "7  11  0.516224  0.536429  0.612776  0.468048  clear   Rice\n",
              "8  12  0.314295  0.671280  0.417267  0.227548   blue  Maize\n",
              "9  19  0.280942  0.701457  0.179633  0.141183  white  Maize"
            ]
          },
          "metadata": {
            "tags": []
          },
          "execution_count": 12
        }
      ]
    },
    {
      "cell_type": "markdown",
      "metadata": {
        "id": "nCVuag1JDLzL",
        "colab_type": "text"
      },
      "source": [
        "Removing the non significant attribute **ID** from the dataset"
      ]
    },
    {
      "cell_type": "code",
      "metadata": {
        "id": "P50LClHGDKug",
        "colab_type": "code",
        "colab": {}
      },
      "source": [
        "data_set = data_set.drop(columns=['id'])"
      ],
      "execution_count": 13,
      "outputs": []
    },
    {
      "cell_type": "code",
      "metadata": {
        "id": "i9lGVdCLDaSS",
        "colab_type": "code",
        "colab": {
          "base_uri": "https://localhost:8080/",
          "height": 363
        },
        "outputId": "ae784383-22a8-401c-8e35-8e324f20d076"
      },
      "source": [
        "data_set.head(10)"
      ],
      "execution_count": 14,
      "outputs": [
        {
          "output_type": "execute_result",
          "data": {
            "text/html": [
              "<div>\n",
              "<style scoped>\n",
              "    .dataframe tbody tr th:only-of-type {\n",
              "        vertical-align: middle;\n",
              "    }\n",
              "\n",
              "    .dataframe tbody tr th {\n",
              "        vertical-align: top;\n",
              "    }\n",
              "\n",
              "    .dataframe thead th {\n",
              "        text-align: right;\n",
              "    }\n",
              "</style>\n",
              "<table border=\"1\" class=\"dataframe\">\n",
              "  <thead>\n",
              "    <tr style=\"text-align: right;\">\n",
              "      <th></th>\n",
              "      <th>b_l</th>\n",
              "      <th>r_f</th>\n",
              "      <th>h_l</th>\n",
              "      <th>h_c</th>\n",
              "      <th>c_l</th>\n",
              "      <th>type</th>\n",
              "    </tr>\n",
              "  </thead>\n",
              "  <tbody>\n",
              "    <tr>\n",
              "      <th>0</th>\n",
              "      <td>0.354512</td>\n",
              "      <td>0.350839</td>\n",
              "      <td>0.465761</td>\n",
              "      <td>0.781142</td>\n",
              "      <td>clear</td>\n",
              "      <td>Rice</td>\n",
              "    </tr>\n",
              "    <tr>\n",
              "      <th>1</th>\n",
              "      <td>0.575560</td>\n",
              "      <td>0.425868</td>\n",
              "      <td>0.531401</td>\n",
              "      <td>0.439899</td>\n",
              "      <td>green</td>\n",
              "      <td>Wheat</td>\n",
              "    </tr>\n",
              "    <tr>\n",
              "      <th>2</th>\n",
              "      <td>0.467875</td>\n",
              "      <td>0.354330</td>\n",
              "      <td>0.811616</td>\n",
              "      <td>0.791225</td>\n",
              "      <td>black</td>\n",
              "      <td>Rice</td>\n",
              "    </tr>\n",
              "    <tr>\n",
              "      <th>3</th>\n",
              "      <td>0.776652</td>\n",
              "      <td>0.508723</td>\n",
              "      <td>0.636766</td>\n",
              "      <td>0.884464</td>\n",
              "      <td>black</td>\n",
              "      <td>Rice</td>\n",
              "    </tr>\n",
              "    <tr>\n",
              "      <th>4</th>\n",
              "      <td>0.566117</td>\n",
              "      <td>-0.875862</td>\n",
              "      <td>0.418594</td>\n",
              "      <td>0.636438</td>\n",
              "      <td>green</td>\n",
              "      <td>Maize</td>\n",
              "    </tr>\n",
              "    <tr>\n",
              "      <th>5</th>\n",
              "      <td>0.405680</td>\n",
              "      <td>0.253277</td>\n",
              "      <td>0.441420</td>\n",
              "      <td>0.280324</td>\n",
              "      <td>green</td>\n",
              "      <td>Wheat</td>\n",
              "    </tr>\n",
              "    <tr>\n",
              "      <th>6</th>\n",
              "      <td>0.399331</td>\n",
              "      <td>0.568952</td>\n",
              "      <td>0.618391</td>\n",
              "      <td>0.467901</td>\n",
              "      <td>white</td>\n",
              "      <td>Wheat</td>\n",
              "    </tr>\n",
              "    <tr>\n",
              "      <th>7</th>\n",
              "      <td>0.516224</td>\n",
              "      <td>0.536429</td>\n",
              "      <td>0.612776</td>\n",
              "      <td>0.468048</td>\n",
              "      <td>clear</td>\n",
              "      <td>Rice</td>\n",
              "    </tr>\n",
              "    <tr>\n",
              "      <th>8</th>\n",
              "      <td>0.314295</td>\n",
              "      <td>0.671280</td>\n",
              "      <td>0.417267</td>\n",
              "      <td>0.227548</td>\n",
              "      <td>blue</td>\n",
              "      <td>Maize</td>\n",
              "    </tr>\n",
              "    <tr>\n",
              "      <th>9</th>\n",
              "      <td>0.280942</td>\n",
              "      <td>0.701457</td>\n",
              "      <td>0.179633</td>\n",
              "      <td>0.141183</td>\n",
              "      <td>white</td>\n",
              "      <td>Maize</td>\n",
              "    </tr>\n",
              "  </tbody>\n",
              "</table>\n",
              "</div>"
            ],
            "text/plain": [
              "        b_l       r_f       h_l       h_c    c_l   type\n",
              "0  0.354512  0.350839  0.465761  0.781142  clear   Rice\n",
              "1  0.575560  0.425868  0.531401  0.439899  green  Wheat\n",
              "2  0.467875  0.354330  0.811616  0.791225  black   Rice\n",
              "3  0.776652  0.508723  0.636766  0.884464  black   Rice\n",
              "4  0.566117 -0.875862  0.418594  0.636438  green  Maize\n",
              "5  0.405680  0.253277  0.441420  0.280324  green  Wheat\n",
              "6  0.399331  0.568952  0.618391  0.467901  white  Wheat\n",
              "7  0.516224  0.536429  0.612776  0.468048  clear   Rice\n",
              "8  0.314295  0.671280  0.417267  0.227548   blue  Maize\n",
              "9  0.280942  0.701457  0.179633  0.141183  white  Maize"
            ]
          },
          "metadata": {
            "tags": []
          },
          "execution_count": 14
        }
      ]
    },
    {
      "cell_type": "markdown",
      "metadata": {
        "id": "XRTvLRa3EX5d",
        "colab_type": "text"
      },
      "source": [
        "Importing packages for vizualization"
      ]
    },
    {
      "cell_type": "code",
      "metadata": {
        "id": "ykxnfITuD20r",
        "colab_type": "code",
        "colab": {}
      },
      "source": [
        "import matplotlib.pyplot as plt"
      ],
      "execution_count": 15,
      "outputs": []
    },
    {
      "cell_type": "markdown",
      "metadata": {
        "id": "PhKM26X4GoNI",
        "colab_type": "text"
      },
      "source": [
        "Ploting between the attributes h_l and h_c"
      ]
    },
    {
      "cell_type": "code",
      "metadata": {
        "id": "W617hdA4FBOP",
        "colab_type": "code",
        "colab": {
          "base_uri": "https://localhost:8080/",
          "height": 313
        },
        "outputId": "310cff56-7a58-49eb-f623-92e6e4f6379d"
      },
      "source": [
        "# create color dictionary\n",
        "colors = {'Rice':'r', 'Wheat':'g', 'Maize':'b'}\n",
        "# create a figure and axis\n",
        "fig, ax = plt.subplots()\n",
        "# plot each data-point\n",
        "for i in range(len(data_set['h_l'])):\n",
        "    ax.scatter(data_set['h_l'][i], data_set['h_c'][i],color=colors[data_set['type'][i]])\n",
        "# set a title and labels\n",
        "ax.set_title('Dataset')\n",
        "ax.set_xlabel('h_l')\n",
        "ax.set_ylabel('h_c')"
      ],
      "execution_count": 16,
      "outputs": [
        {
          "output_type": "execute_result",
          "data": {
            "text/plain": [
              "Text(0, 0.5, 'h_c')"
            ]
          },
          "metadata": {
            "tags": []
          },
          "execution_count": 16
        },
        {
          "output_type": "display_data",
          "data": {
            "image/png": "[encoded data removed]",
            "text/plain": [
              "<Figure size 432x288 with 1 Axes>"
            ]
          },
          "metadata": {
            "tags": [],
            "needs_background": "light"
          }
        }
      ]
    },
    {
      "cell_type": "markdown",
      "metadata": {
        "id": "_IjQTDRmGuu9",
        "colab_type": "text"
      },
      "source": [
        "Plotting between the attributes b_l and r_f"
      ]
    },
    {
      "cell_type": "code",
      "metadata": {
        "id": "EuuTJ5KGGhtK",
        "colab_type": "code",
        "colab": {
          "base_uri": "https://localhost:8080/",
          "height": 313
        },
        "outputId": "50b6b57f-1ae2-4b40-9ba7-4fe63d3c25c2"
      },
      "source": [
        "# create color dictionary\n",
        "colors = {'Rice':'r', 'Wheat':'g', 'Maize':'b'}\n",
        "# create a figure and axis\n",
        "fig, ax = plt.subplots()\n",
        "# plot each data-point\n",
        "for i in range(len(data_set['b_l'])):\n",
        "    ax.scatter(data_set['b_l'][i], data_set['r_f'][i],color=colors[data_set['type'][i]])\n",
        "# set a title and labels\n",
        "ax.set_title('Dataset')\n",
        "ax.set_xlabel('b_l')\n",
        "ax.set_ylabel('h_c')"
      ],
      "execution_count": 17,
      "outputs": [
        {
          "output_type": "execute_result",
          "data": {
            "text/plain": [
              "Text(0, 0.5, 'h_c')"
            ]
          },
          "metadata": {
            "tags": []
          },
          "execution_count": 17
        },
        {
          "output_type": "display_data",
          "data": {
            "image/png": "[encoded data removed]",
            "text/plain": [
              "<Figure size 432x288 with 1 Axes>"
            ]
          },
          "metadata": {
            "tags": [],
            "needs_background": "light"
          }
        }
      ]
    },
    {
      "cell_type": "markdown",
      "metadata": {
        "id": "RA57bjygHCCR",
        "colab_type": "text"
      },
      "source": [
        "Line chart for the attributes"
      ]
    },
    {
      "cell_type": "code",
      "metadata": {
        "id": "DEVE9jqEG7pT",
        "colab_type": "code",
        "colab": {
          "base_uri": "https://localhost:8080/",
          "height": 298
        },
        "outputId": "a6f773a0-c9ae-4833-cda7-f4e75cf93edc"
      },
      "source": [
        "# get columns to plot\n",
        "columns = data_set.columns.drop(['type','c_l'])\n",
        "# create x data\n",
        "x_data = range(0, data_set.shape[0])\n",
        "# create figure and axis\n",
        "fig, ax = plt.subplots()\n",
        "# plot each column\n",
        "for column in columns:\n",
        "    ax.plot(x_data, data_set[column], label=column)\n",
        "# set title and legend\n",
        "ax.set_title('Dataset')\n",
        "ax.legend()"
      ],
      "execution_count": 18,
      "outputs": [
        {
          "output_type": "execute_result",
          "data": {
            "text/plain": [
              "<matplotlib.legend.Legend at 0x7f300a129e48>"
            ]
          },
          "metadata": {
            "tags": []
          },
          "execution_count": 18
        },
        {
          "output_type": "display_data",
          "data": {
            "image/png": "[encoded data removed]",
            "text/plain": [
              "<Figure size 432x288 with 1 Axes>"
            ]
          },
          "metadata": {
            "tags": [],
            "needs_background": "light"
          }
        }
      ]
    },
    {
      "cell_type": "markdown",
      "metadata": {
        "id": "CqdJ-c3EHVX_",
        "colab_type": "text"
      },
      "source": [
        "From the graphs we can see that there are few outliers in the dataset"
      ]
    },
    {
      "cell_type": "markdown",
      "metadata": {
        "id": "chmOUdiTHdvS",
        "colab_type": "text"
      },
      "source": [
        "Ploatting for c_l attribute"
      ]
    },
    {
      "cell_type": "code",
      "metadata": {
        "id": "FBy84UV0HK3N",
        "colab_type": "code",
        "colab": {
          "base_uri": "https://localhost:8080/",
          "height": 312
        },
        "outputId": "eb7dffc6-80b5-4265-fccd-7259f419f0d7"
      },
      "source": [
        "# create figure and axis\n",
        "fig, ax = plt.subplots()\n",
        "# plot histogram\n",
        "ax.hist(data_set['c_l'])\n",
        "# set title and labels\n",
        "ax.set_title('C_L')\n",
        "ax.set_xlabel('Points')\n",
        "ax.set_ylabel('Frequency')"
      ],
      "execution_count": 19,
      "outputs": [
        {
          "output_type": "execute_result",
          "data": {
            "text/plain": [
              "Text(0, 0.5, 'Frequency')"
            ]
          },
          "metadata": {
            "tags": []
          },
          "execution_count": 19
        },
        {
          "output_type": "display_data",
          "data": {
            "image/png": "[encoded data removed]",
            "text/plain": [
              "<Figure size 432x288 with 1 Axes>"
            ]
          },
          "metadata": {
            "tags": [],
            "needs_background": "light"
          }
        }
      ]
    },
    {
      "cell_type": "code",
      "metadata": {
        "id": "4Wsv9qKFHlL6",
        "colab_type": "code",
        "colab": {
          "base_uri": "https://localhost:8080/",
          "height": 72
        },
        "outputId": "edf9ae41-063d-44ce-ed57-ea4313d59698"
      },
      "source": [
        "import seaborn as sns"
      ],
      "execution_count": 20,
      "outputs": [
        {
          "output_type": "stream",
          "text": [
            "/usr/local/lib/python3.6/dist-packages/statsmodels/tools/_testing.py:19: FutureWarning: pandas.util.testing is deprecated. Use the functions in the public API at pandas.testing instead.\n",
            "  import pandas.util.testing as tm\n"
          ],
          "name": "stderr"
        }
      ]
    },
    {
      "cell_type": "code",
      "metadata": {
        "id": "Kdy4Tn8jIb42",
        "colab_type": "code",
        "colab": {
          "base_uri": "https://localhost:8080/",
          "height": 34
        },
        "outputId": "a72b7154-f588-4b1f-eaaf-68bad4edce8f"
      },
      "source": [
        "data_set.columns"
      ],
      "execution_count": 21,
      "outputs": [
        {
          "output_type": "execute_result",
          "data": {
            "text/plain": [
              "Index(['b_l', 'r_f', 'h_l', 'h_c', 'c_l', 'type'], dtype='object')"
            ]
          },
          "metadata": {
            "tags": []
          },
          "execution_count": 21
        }
      ]
    },
    {
      "cell_type": "code",
      "metadata": {
        "id": "b7hSFjyFITCM",
        "colab_type": "code",
        "colab": {
          "base_uri": "https://localhost:8080/",
          "height": 275
        },
        "outputId": "7a7cc450-19c3-43d4-afad-faa2f0d2af5a"
      },
      "source": [
        "# get correlation matrix\n",
        "corr = data_set.corr()\n",
        "fig, ax = plt.subplots()\n",
        "# create heatmap\n",
        "im = ax.imshow(corr.values)\n",
        "\n",
        "# set labels\n",
        "ax.set_xticks(np.arange(len(corr.columns)))\n",
        "ax.set_yticks(np.arange(len(corr.columns)))\n",
        "ax.set_xticklabels(corr.columns)\n",
        "ax.set_yticklabels(corr.columns)\n",
        "\n",
        "# Rotate the tick labels and set their alignment.\n",
        "plt.setp(ax.get_xticklabels(), rotation=45, ha=\"right\",\n",
        "         rotation_mode=\"anchor\")\n",
        "\n",
        "# Loop over data dimensions and create text annotations.\n",
        "for i in range(len(corr.columns)):\n",
        "    for j in range(len(corr.columns)):\n",
        "        text = ax.text(j, i, np.around(corr.iloc[i, j], decimals=2),\n",
        "                       ha=\"center\", va=\"center\", color=\"black\")"
      ],
      "execution_count": 22,
      "outputs": [
        {
          "output_type": "display_data",
          "data": {
            "image/png": "[encoded data removed]",
            "text/plain": [
              "<Figure size 432x288 with 1 Axes>"
            ]
          },
          "metadata": {
            "tags": [],
            "needs_background": "light"
          }
        }
      ]
    },
    {
      "cell_type": "code",
      "metadata": {
        "id": "2eO8aEBhIXBc",
        "colab_type": "code",
        "colab": {
          "base_uri": "https://localhost:8080/",
          "height": 1000
        },
        "outputId": "48a6d6f7-a70d-4048-fa75-0be85c271dc3"
      },
      "source": [
        "from pandas.plotting import scatter_matrix\n",
        "\n",
        "fig, ax = plt.subplots(figsize=(12,12))\n",
        "scatter_matrix(data_set, alpha=1, ax=ax)"
      ],
      "execution_count": 23,
      "outputs": [
        {
          "output_type": "stream",
          "text": [
            "/usr/local/lib/python3.6/dist-packages/ipykernel_launcher.py:4: UserWarning: To output multiple subplots, the figure containing the passed axes is being cleared\n",
            "  after removing the cwd from sys.path.\n"
          ],
          "name": "stderr"
        },
        {
          "output_type": "execute_result",
          "data": {
            "text/plain": [
              "array([[<matplotlib.axes._subplots.AxesSubplot object at 0x7f2fff640208>,\n",
              "        <matplotlib.axes._subplots.AxesSubplot object at 0x7f2fff561a90>,\n",
              "        <matplotlib.axes._subplots.AxesSubplot object at 0x7f2fff513cf8>,\n",
              "        <matplotlib.axes._subplots.AxesSubplot object at 0x7f2fff4cd390>],\n",
              "       [<matplotlib.axes._subplots.AxesSubplot object at 0x7f2fff4815f8>,\n",
              "        <matplotlib.axes._subplots.AxesSubplot object at 0x7f2fff434860>,\n",
              "        <matplotlib.axes._subplots.AxesSubplot object at 0x7f2fff3e7ac8>,\n",
              "        <matplotlib.axes._subplots.AxesSubplot object at 0x7f2fff41ccf8>],\n",
              "       [<matplotlib.axes._subplots.AxesSubplot object at 0x7f2fff41cd68>,\n",
              "        <matplotlib.axes._subplots.AxesSubplot object at 0x7f2fff391240>,\n",
              "        <matplotlib.axes._subplots.AxesSubplot object at 0x7f2fff3434a8>,\n",
              "        <matplotlib.axes._subplots.AxesSubplot object at 0x7f2fff2f7710>],\n",
              "       [<matplotlib.axes._subplots.AxesSubplot object at 0x7f2fff2ad978>,\n",
              "        <matplotlib.axes._subplots.AxesSubplot object at 0x7f2fff2debe0>,\n",
              "        <matplotlib.axes._subplots.AxesSubplot object at 0x7f2fff294e48>,\n",
              "        <matplotlib.axes._subplots.AxesSubplot object at 0x7f2fff2550f0>]],\n",
              "      dtype=object)"
            ]
          },
          "metadata": {
            "tags": []
          },
          "execution_count": 23
        },
        {
          "output_type": "display_data",
          "data": {
            "image/png": "[encoded data removed]",
            "text/plain": [
              "<Figure size 864x864 with 16 Axes>"
            ]
          },
          "metadata": {
            "tags": [],
            "needs_background": "light"
          }
        }
      ]
    },
    {
      "cell_type": "code",
      "metadata": {
        "id": "uWZr4pm8JKP5",
        "colab_type": "code",
        "colab": {}
      },
      "source": [
        ""
      ],
      "execution_count": 23,
      "outputs": []
    },
    {
      "cell_type": "markdown",
      "metadata": {
        "id": "Asn0XjhiL9Gw",
        "colab_type": "text"
      },
      "source": [
        "# Preprocess the data (removal or imputation of NaNs/errors/outliers, encoding, generating new useful features, etc)"
      ]
    },
    {
      "cell_type": "code",
      "metadata": {
        "id": "hh4rm7JNL-vM",
        "colab_type": "code",
        "colab": {
          "base_uri": "https://localhost:8080/",
          "height": 363
        },
        "outputId": "86dbd26a-331c-4056-be8f-0fcca51b537a"
      },
      "source": [
        "data_set.head(10)"
      ],
      "execution_count": 24,
      "outputs": [
        {
          "output_type": "execute_result",
          "data": {
            "text/html": [
              "<div>\n",
              "<style scoped>\n",
              "    .dataframe tbody tr th:only-of-type {\n",
              "        vertical-align: middle;\n",
              "    }\n",
              "\n",
              "    .dataframe tbody tr th {\n",
              "        vertical-align: top;\n",
              "    }\n",
              "\n",
              "    .dataframe thead th {\n",
              "        text-align: right;\n",
              "    }\n",
              "</style>\n",
              "<table border=\"1\" class=\"dataframe\">\n",
              "  <thead>\n",
              "    <tr style=\"text-align: right;\">\n",
              "      <th></th>\n",
              "      <th>b_l</th>\n",
              "      <th>r_f</th>\n",
              "      <th>h_l</th>\n",
              "      <th>h_c</th>\n",
              "      <th>c_l</th>\n",
              "      <th>type</th>\n",
              "    </tr>\n",
              "  </thead>\n",
              "  <tbody>\n",
              "    <tr>\n",
              "      <th>0</th>\n",
              "      <td>0.354512</td>\n",
              "      <td>0.350839</td>\n",
              "      <td>0.465761</td>\n",
              "      <td>0.781142</td>\n",
              "      <td>clear</td>\n",
              "      <td>Rice</td>\n",
              "    </tr>\n",
              "    <tr>\n",
              "      <th>1</th>\n",
              "      <td>0.575560</td>\n",
              "      <td>0.425868</td>\n",
              "      <td>0.531401</td>\n",
              "      <td>0.439899</td>\n",
              "      <td>green</td>\n",
              "      <td>Wheat</td>\n",
              "    </tr>\n",
              "    <tr>\n",
              "      <th>2</th>\n",
              "      <td>0.467875</td>\n",
              "      <td>0.354330</td>\n",
              "      <td>0.811616</td>\n",
              "      <td>0.791225</td>\n",
              "      <td>black</td>\n",
              "      <td>Rice</td>\n",
              "    </tr>\n",
              "    <tr>\n",
              "      <th>3</th>\n",
              "      <td>0.776652</td>\n",
              "      <td>0.508723</td>\n",
              "      <td>0.636766</td>\n",
              "      <td>0.884464</td>\n",
              "      <td>black</td>\n",
              "      <td>Rice</td>\n",
              "    </tr>\n",
              "    <tr>\n",
              "      <th>4</th>\n",
              "      <td>0.566117</td>\n",
              "      <td>-0.875862</td>\n",
              "      <td>0.418594</td>\n",
              "      <td>0.636438</td>\n",
              "      <td>green</td>\n",
              "      <td>Maize</td>\n",
              "    </tr>\n",
              "    <tr>\n",
              "      <th>5</th>\n",
              "      <td>0.405680</td>\n",
              "      <td>0.253277</td>\n",
              "      <td>0.441420</td>\n",
              "      <td>0.280324</td>\n",
              "      <td>green</td>\n",
              "      <td>Wheat</td>\n",
              "    </tr>\n",
              "    <tr>\n",
              "      <th>6</th>\n",
              "      <td>0.399331</td>\n",
              "      <td>0.568952</td>\n",
              "      <td>0.618391</td>\n",
              "      <td>0.467901</td>\n",
              "      <td>white</td>\n",
              "      <td>Wheat</td>\n",
              "    </tr>\n",
              "    <tr>\n",
              "      <th>7</th>\n",
              "      <td>0.516224</td>\n",
              "      <td>0.536429</td>\n",
              "      <td>0.612776</td>\n",
              "      <td>0.468048</td>\n",
              "      <td>clear</td>\n",
              "      <td>Rice</td>\n",
              "    </tr>\n",
              "    <tr>\n",
              "      <th>8</th>\n",
              "      <td>0.314295</td>\n",
              "      <td>0.671280</td>\n",
              "      <td>0.417267</td>\n",
              "      <td>0.227548</td>\n",
              "      <td>blue</td>\n",
              "      <td>Maize</td>\n",
              "    </tr>\n",
              "    <tr>\n",
              "      <th>9</th>\n",
              "      <td>0.280942</td>\n",
              "      <td>0.701457</td>\n",
              "      <td>0.179633</td>\n",
              "      <td>0.141183</td>\n",
              "      <td>white</td>\n",
              "      <td>Maize</td>\n",
              "    </tr>\n",
              "  </tbody>\n",
              "</table>\n",
              "</div>"
            ],
            "text/plain": [
              "        b_l       r_f       h_l       h_c    c_l   type\n",
              "0  0.354512  0.350839  0.465761  0.781142  clear   Rice\n",
              "1  0.575560  0.425868  0.531401  0.439899  green  Wheat\n",
              "2  0.467875  0.354330  0.811616  0.791225  black   Rice\n",
              "3  0.776652  0.508723  0.636766  0.884464  black   Rice\n",
              "4  0.566117 -0.875862  0.418594  0.636438  green  Maize\n",
              "5  0.405680  0.253277  0.441420  0.280324  green  Wheat\n",
              "6  0.399331  0.568952  0.618391  0.467901  white  Wheat\n",
              "7  0.516224  0.536429  0.612776  0.468048  clear   Rice\n",
              "8  0.314295  0.671280  0.417267  0.227548   blue  Maize\n",
              "9  0.280942  0.701457  0.179633  0.141183  white  Maize"
            ]
          },
          "metadata": {
            "tags": []
          },
          "execution_count": 24
        }
      ]
    },
    {
      "cell_type": "markdown",
      "metadata": {
        "id": "Ee2iY1r1ME1C",
        "colab_type": "text"
      },
      "source": [
        "verfiying the null values"
      ]
    },
    {
      "cell_type": "code",
      "metadata": {
        "id": "ulPxf8AoMCOd",
        "colab_type": "code",
        "colab": {
          "base_uri": "https://localhost:8080/",
          "height": 34
        },
        "outputId": "dd2b8a94-6aae-4b36-9c26-4ecc405f7606"
      },
      "source": [
        "data_set.isnull().values.any()"
      ],
      "execution_count": 25,
      "outputs": [
        {
          "output_type": "execute_result",
          "data": {
            "text/plain": [
              "False"
            ]
          },
          "metadata": {
            "tags": []
          },
          "execution_count": 25
        }
      ]
    },
    {
      "cell_type": "code",
      "metadata": {
        "id": "9IEv9AdhMJdd",
        "colab_type": "code",
        "colab": {
          "base_uri": "https://localhost:8080/",
          "height": 139
        },
        "outputId": "f0315c28-2a69-45dd-cb38-355ff2b386bd"
      },
      "source": [
        "data_set.isnull().sum()"
      ],
      "execution_count": 26,
      "outputs": [
        {
          "output_type": "execute_result",
          "data": {
            "text/plain": [
              "b_l     0\n",
              "r_f     0\n",
              "h_l     0\n",
              "h_c     0\n",
              "c_l     0\n",
              "type    0\n",
              "dtype: int64"
            ]
          },
          "metadata": {
            "tags": []
          },
          "execution_count": 26
        }
      ]
    },
    {
      "cell_type": "code",
      "metadata": {
        "id": "SwK9P2IfMU4c",
        "colab_type": "code",
        "colab": {
          "base_uri": "https://localhost:8080/",
          "height": 34
        },
        "outputId": "f977255f-43f6-45e9-cb9b-eda195cac4fd"
      },
      "source": [
        "data_set.isna().values.any()"
      ],
      "execution_count": 27,
      "outputs": [
        {
          "output_type": "execute_result",
          "data": {
            "text/plain": [
              "False"
            ]
          },
          "metadata": {
            "tags": []
          },
          "execution_count": 27
        }
      ]
    },
    {
      "cell_type": "code",
      "metadata": {
        "id": "oJhXhugQMKJf",
        "colab_type": "code",
        "colab": {
          "base_uri": "https://localhost:8080/",
          "height": 139
        },
        "outputId": "3cc1d001-f783-461a-a646-246a33692fb9"
      },
      "source": [
        "data_set.isna().sum()"
      ],
      "execution_count": 28,
      "outputs": [
        {
          "output_type": "execute_result",
          "data": {
            "text/plain": [
              "b_l     0\n",
              "r_f     0\n",
              "h_l     0\n",
              "h_c     0\n",
              "c_l     0\n",
              "type    0\n",
              "dtype: int64"
            ]
          },
          "metadata": {
            "tags": []
          },
          "execution_count": 28
        }
      ]
    },
    {
      "cell_type": "markdown",
      "metadata": {
        "id": "0yt6nqrHURlZ",
        "colab_type": "text"
      },
      "source": [
        "Encoding the data"
      ]
    },
    {
      "cell_type": "code",
      "metadata": {
        "id": "bVndoZJLUT4z",
        "colab_type": "code",
        "colab": {
          "base_uri": "https://localhost:8080/",
          "height": 363
        },
        "outputId": "381e6779-4e78-4ced-8752-e1bc23085966"
      },
      "source": [
        "from sklearn.preprocessing import LabelEncoder\n",
        "LE = LabelEncoder()\n",
        "data_set['type'] = LE.fit_transform(data_set['type'])\n",
        "data_set['c_l'] = LE.fit_transform(data_set['c_l'])\n",
        "data_set.head(10)"
      ],
      "execution_count": 29,
      "outputs": [
        {
          "output_type": "execute_result",
          "data": {
            "text/html": [
              "<div>\n",
              "<style scoped>\n",
              "    .dataframe tbody tr th:only-of-type {\n",
              "        vertical-align: middle;\n",
              "    }\n",
              "\n",
              "    .dataframe tbody tr th {\n",
              "        vertical-align: top;\n",
              "    }\n",
              "\n",
              "    .dataframe thead th {\n",
              "        text-align: right;\n",
              "    }\n",
              "</style>\n",
              "<table border=\"1\" class=\"dataframe\">\n",
              "  <thead>\n",
              "    <tr style=\"text-align: right;\">\n",
              "      <th></th>\n",
              "      <th>b_l</th>\n",
              "      <th>r_f</th>\n",
              "      <th>h_l</th>\n",
              "      <th>h_c</th>\n",
              "      <th>c_l</th>\n",
              "      <th>type</th>\n",
              "    </tr>\n",
              "  </thead>\n",
              "  <tbody>\n",
              "    <tr>\n",
              "      <th>0</th>\n",
              "      <td>0.354512</td>\n",
              "      <td>0.350839</td>\n",
              "      <td>0.465761</td>\n",
              "      <td>0.781142</td>\n",
              "      <td>3</td>\n",
              "      <td>1</td>\n",
              "    </tr>\n",
              "    <tr>\n",
              "      <th>1</th>\n",
              "      <td>0.575560</td>\n",
              "      <td>0.425868</td>\n",
              "      <td>0.531401</td>\n",
              "      <td>0.439899</td>\n",
              "      <td>4</td>\n",
              "      <td>2</td>\n",
              "    </tr>\n",
              "    <tr>\n",
              "      <th>2</th>\n",
              "      <td>0.467875</td>\n",
              "      <td>0.354330</td>\n",
              "      <td>0.811616</td>\n",
              "      <td>0.791225</td>\n",
              "      <td>0</td>\n",
              "      <td>1</td>\n",
              "    </tr>\n",
              "    <tr>\n",
              "      <th>3</th>\n",
              "      <td>0.776652</td>\n",
              "      <td>0.508723</td>\n",
              "      <td>0.636766</td>\n",
              "      <td>0.884464</td>\n",
              "      <td>0</td>\n",
              "      <td>1</td>\n",
              "    </tr>\n",
              "    <tr>\n",
              "      <th>4</th>\n",
              "      <td>0.566117</td>\n",
              "      <td>-0.875862</td>\n",
              "      <td>0.418594</td>\n",
              "      <td>0.636438</td>\n",
              "      <td>4</td>\n",
              "      <td>0</td>\n",
              "    </tr>\n",
              "    <tr>\n",
              "      <th>5</th>\n",
              "      <td>0.405680</td>\n",
              "      <td>0.253277</td>\n",
              "      <td>0.441420</td>\n",
              "      <td>0.280324</td>\n",
              "      <td>4</td>\n",
              "      <td>2</td>\n",
              "    </tr>\n",
              "    <tr>\n",
              "      <th>6</th>\n",
              "      <td>0.399331</td>\n",
              "      <td>0.568952</td>\n",
              "      <td>0.618391</td>\n",
              "      <td>0.467901</td>\n",
              "      <td>5</td>\n",
              "      <td>2</td>\n",
              "    </tr>\n",
              "    <tr>\n",
              "      <th>7</th>\n",
              "      <td>0.516224</td>\n",
              "      <td>0.536429</td>\n",
              "      <td>0.612776</td>\n",
              "      <td>0.468048</td>\n",
              "      <td>3</td>\n",
              "      <td>1</td>\n",
              "    </tr>\n",
              "    <tr>\n",
              "      <th>8</th>\n",
              "      <td>0.314295</td>\n",
              "      <td>0.671280</td>\n",
              "      <td>0.417267</td>\n",
              "      <td>0.227548</td>\n",
              "      <td>2</td>\n",
              "      <td>0</td>\n",
              "    </tr>\n",
              "    <tr>\n",
              "      <th>9</th>\n",
              "      <td>0.280942</td>\n",
              "      <td>0.701457</td>\n",
              "      <td>0.179633</td>\n",
              "      <td>0.141183</td>\n",
              "      <td>5</td>\n",
              "      <td>0</td>\n",
              "    </tr>\n",
              "  </tbody>\n",
              "</table>\n",
              "</div>"
            ],
            "text/plain": [
              "        b_l       r_f       h_l       h_c  c_l  type\n",
              "0  0.354512  0.350839  0.465761  0.781142    3     1\n",
              "1  0.575560  0.425868  0.531401  0.439899    4     2\n",
              "2  0.467875  0.354330  0.811616  0.791225    0     1\n",
              "3  0.776652  0.508723  0.636766  0.884464    0     1\n",
              "4  0.566117 -0.875862  0.418594  0.636438    4     0\n",
              "5  0.405680  0.253277  0.441420  0.280324    4     2\n",
              "6  0.399331  0.568952  0.618391  0.467901    5     2\n",
              "7  0.516224  0.536429  0.612776  0.468048    3     1\n",
              "8  0.314295  0.671280  0.417267  0.227548    2     0\n",
              "9  0.280942  0.701457  0.179633  0.141183    5     0"
            ]
          },
          "metadata": {
            "tags": []
          },
          "execution_count": 29
        }
      ]
    },
    {
      "cell_type": "markdown",
      "metadata": {
        "id": "L-ytuL8LM377",
        "colab_type": "text"
      },
      "source": [
        "dectecting the outliers"
      ]
    },
    {
      "cell_type": "code",
      "metadata": {
        "id": "OWMXnxyMMNfh",
        "colab_type": "code",
        "colab": {
          "base_uri": "https://localhost:8080/",
          "height": 298
        },
        "outputId": "769776fe-387c-4f93-e314-d856e1a364f4"
      },
      "source": [
        "# get columns to plot\n",
        "columns = data_set.columns.drop(['type','c_l'])\n",
        "# create x data\n",
        "x_data = range(0, data_set.shape[0])\n",
        "# create figure and axis\n",
        "fig, ax = plt.subplots()\n",
        "# plot each column\n",
        "for column in columns:\n",
        "    ax.plot(x_data, data_set[column], label=column)\n",
        "# set title and legend\n",
        "ax.set_title('Dataset')\n",
        "ax.legend()"
      ],
      "execution_count": 30,
      "outputs": [
        {
          "output_type": "execute_result",
          "data": {
            "text/plain": [
              "<matplotlib.legend.Legend at 0x7f2ffc7ed278>"
            ]
          },
          "metadata": {
            "tags": []
          },
          "execution_count": 30
        },
        {
          "output_type": "display_data",
          "data": {
            "image/png": "[encoded data removed]",
            "text/plain": [
              "<Figure size 432x288 with 1 Axes>"
            ]
          },
          "metadata": {
            "tags": [],
            "needs_background": "light"
          }
        }
      ]
    },
    {
      "cell_type": "markdown",
      "metadata": {
        "id": "3jruuZEpONU2",
        "colab_type": "text"
      },
      "source": [
        "Finding outliers"
      ]
    },
    {
      "cell_type": "code",
      "metadata": {
        "id": "vJ7wrgQFMip0",
        "colab_type": "code",
        "colab": {
          "base_uri": "https://localhost:8080/",
          "height": 191
        },
        "outputId": "2ea893f9-cacf-45a5-d215-28107c9c536c"
      },
      "source": [
        "col = data_set.columns.drop(['type','c_l'])\n",
        "\n",
        "for column in col:\n",
        "  col_val = list(data_set[column]);\n",
        "  for i in col_val:\n",
        "      if i < 0:\n",
        "        print(i)"
      ],
      "execution_count": 31,
      "outputs": [
        {
          "output_type": "stream",
          "text": [
            "-0.6305854120000001\n",
            "-0.8758617959999999\n",
            "-0.7151309240000001\n",
            "-1.0\n",
            "-0.749885949\n",
            "-0.851171467\n",
            "-0.737274348\n",
            "-0.907712135\n",
            "-0.7338158770000001\n",
            "-0.6096158420000001\n"
          ],
          "name": "stdout"
        }
      ]
    },
    {
      "cell_type": "markdown",
      "metadata": {
        "id": "VZYIER61UoZk",
        "colab_type": "text"
      },
      "source": [
        "Treating the outliers"
      ]
    },
    {
      "cell_type": "code",
      "metadata": {
        "id": "Hzym-AGyTA71",
        "colab_type": "code",
        "colab": {
          "base_uri": "https://localhost:8080/",
          "height": 300
        },
        "outputId": "8ce7581d-2df3-4b93-b20b-b3443d719992"
      },
      "source": [
        "data_set[data_set < 0 ] = abs(data_set)\n",
        "data_set.describe(include=\"all\")"
      ],
      "execution_count": 52,
      "outputs": [
        {
          "output_type": "execute_result",
          "data": {
            "text/html": [
              "<div>\n",
              "<style scoped>\n",
              "    .dataframe tbody tr th:only-of-type {\n",
              "        vertical-align: middle;\n",
              "    }\n",
              "\n",
              "    .dataframe tbody tr th {\n",
              "        vertical-align: top;\n",
              "    }\n",
              "\n",
              "    .dataframe thead th {\n",
              "        text-align: right;\n",
              "    }\n",
              "</style>\n",
              "<table border=\"1\" class=\"dataframe\">\n",
              "  <thead>\n",
              "    <tr style=\"text-align: right;\">\n",
              "      <th></th>\n",
              "      <th>b_l</th>\n",
              "      <th>r_f</th>\n",
              "      <th>h_l</th>\n",
              "      <th>h_c</th>\n",
              "      <th>c_l</th>\n",
              "      <th>type</th>\n",
              "    </tr>\n",
              "  </thead>\n",
              "  <tbody>\n",
              "    <tr>\n",
              "      <th>count</th>\n",
              "      <td>371.000000</td>\n",
              "      <td>371.000000</td>\n",
              "      <td>371.000000</td>\n",
              "      <td>371.000000</td>\n",
              "      <td>371.000000</td>\n",
              "      <td>371.000000</td>\n",
              "    </tr>\n",
              "    <tr>\n",
              "      <th>mean</th>\n",
              "      <td>0.434160</td>\n",
              "      <td>0.506848</td>\n",
              "      <td>0.529114</td>\n",
              "      <td>0.471392</td>\n",
              "      <td>3.404313</td>\n",
              "      <td>1.021563</td>\n",
              "    </tr>\n",
              "    <tr>\n",
              "      <th>std</th>\n",
              "      <td>0.132833</td>\n",
              "      <td>0.146358</td>\n",
              "      <td>0.169902</td>\n",
              "      <td>0.176129</td>\n",
              "      <td>1.615259</td>\n",
              "      <td>0.808448</td>\n",
              "    </tr>\n",
              "    <tr>\n",
              "      <th>min</th>\n",
              "      <td>0.061032</td>\n",
              "      <td>0.095687</td>\n",
              "      <td>0.134600</td>\n",
              "      <td>0.009402</td>\n",
              "      <td>0.000000</td>\n",
              "      <td>0.000000</td>\n",
              "    </tr>\n",
              "    <tr>\n",
              "      <th>25%</th>\n",
              "      <td>0.340006</td>\n",
              "      <td>0.414812</td>\n",
              "      <td>0.407428</td>\n",
              "      <td>0.348002</td>\n",
              "      <td>3.000000</td>\n",
              "      <td>0.000000</td>\n",
              "    </tr>\n",
              "    <tr>\n",
              "      <th>50%</th>\n",
              "      <td>0.434891</td>\n",
              "      <td>0.501552</td>\n",
              "      <td>0.538642</td>\n",
              "      <td>0.466372</td>\n",
              "      <td>3.000000</td>\n",
              "      <td>1.000000</td>\n",
              "    </tr>\n",
              "    <tr>\n",
              "      <th>75%</th>\n",
              "      <td>0.517223</td>\n",
              "      <td>0.603977</td>\n",
              "      <td>0.647244</td>\n",
              "      <td>0.600610</td>\n",
              "      <td>5.000000</td>\n",
              "      <td>2.000000</td>\n",
              "    </tr>\n",
              "    <tr>\n",
              "      <th>max</th>\n",
              "      <td>0.817001</td>\n",
              "      <td>0.932466</td>\n",
              "      <td>1.000000</td>\n",
              "      <td>0.935721</td>\n",
              "      <td>5.000000</td>\n",
              "      <td>2.000000</td>\n",
              "    </tr>\n",
              "  </tbody>\n",
              "</table>\n",
              "</div>"
            ],
            "text/plain": [
              "              b_l         r_f         h_l         h_c         c_l        type\n",
              "count  371.000000  371.000000  371.000000  371.000000  371.000000  371.000000\n",
              "mean     0.434160    0.506848    0.529114    0.471392    3.404313    1.021563\n",
              "std      0.132833    0.146358    0.169902    0.176129    1.615259    0.808448\n",
              "min      0.061032    0.095687    0.134600    0.009402    0.000000    0.000000\n",
              "25%      0.340006    0.414812    0.407428    0.348002    3.000000    0.000000\n",
              "50%      0.434891    0.501552    0.538642    0.466372    3.000000    1.000000\n",
              "75%      0.517223    0.603977    0.647244    0.600610    5.000000    2.000000\n",
              "max      0.817001    0.932466    1.000000    0.935721    5.000000    2.000000"
            ]
          },
          "metadata": {
            "tags": []
          },
          "execution_count": 52
        }
      ]
    },
    {
      "cell_type": "markdown",
      "metadata": {
        "id": "1uUhqf5zUs7_",
        "colab_type": "text"
      },
      "source": [
        "Seeing the corrected data"
      ]
    },
    {
      "cell_type": "code",
      "metadata": {
        "id": "BAgcVh-lOwzV",
        "colab_type": "code",
        "colab": {
          "base_uri": "https://localhost:8080/",
          "height": 298
        },
        "outputId": "a7c8f66d-ef4f-4f97-c6f3-3cc9b8c7044f"
      },
      "source": [
        "# get columns to plot\n",
        "columns = data_set.columns.drop(['type','c_l'])\n",
        "# create x data\n",
        "x_data = range(0, data_set.shape[0])\n",
        "# create figure and axis\n",
        "fig, ax = plt.subplots()\n",
        "# plot each column\n",
        "for column in columns:\n",
        "    ax.plot(x_data, data_set[column], label=column)\n",
        "# set title and legend\n",
        "ax.set_title('Dataset')\n",
        "ax.legend()"
      ],
      "execution_count": 33,
      "outputs": [
        {
          "output_type": "execute_result",
          "data": {
            "text/plain": [
              "<matplotlib.legend.Legend at 0x7f2ffc4f5e48>"
            ]
          },
          "metadata": {
            "tags": []
          },
          "execution_count": 33
        },
        {
          "output_type": "display_data",
          "data": {
            "image/png": "[encoded data removed]",
            "text/plain": [
              "<Figure size 432x288 with 1 Axes>"
            ]
          },
          "metadata": {
            "tags": [],
            "needs_background": "light"
          }
        }
      ]
    },
    {
      "cell_type": "markdown",
      "metadata": {
        "id": "SLmkIMveVFqX",
        "colab_type": "text"
      },
      "source": [
        "# Implement any one classifier (Decision tree, K-nearest neighbor, Naive bayes, SVM, Artiificial Neural Network, etc)"
      ]
    },
    {
      "cell_type": "code",
      "metadata": {
        "id": "k59ENHClVqJQ",
        "colab_type": "code",
        "colab": {}
      },
      "source": [
        "from sklearn.neighbors import KNeighborsClassifier\n",
        "from sklearn.metrics import accuracy_score\n",
        "from sklearn.model_selection import train_test_split\n",
        "from sklearn.metrics import roc_auc_score\n",
        "from sklearn.metrics import confusion_matrix\n",
        "from sklearn.metrics import precision_score, recall_score"
      ],
      "execution_count": 54,
      "outputs": []
    },
    {
      "cell_type": "code",
      "metadata": {
        "id": "4-EZ1Nc0UvjI",
        "colab_type": "code",
        "colab": {
          "base_uri": "https://localhost:8080/",
          "height": 363
        },
        "outputId": "70ced825-130e-4c23-8c4b-d3c1b14409ac"
      },
      "source": [
        "data_set.head(10)"
      ],
      "execution_count": 35,
      "outputs": [
        {
          "output_type": "execute_result",
          "data": {
            "text/html": [
              "<div>\n",
              "<style scoped>\n",
              "    .dataframe tbody tr th:only-of-type {\n",
              "        vertical-align: middle;\n",
              "    }\n",
              "\n",
              "    .dataframe tbody tr th {\n",
              "        vertical-align: top;\n",
              "    }\n",
              "\n",
              "    .dataframe thead th {\n",
              "        text-align: right;\n",
              "    }\n",
              "</style>\n",
              "<table border=\"1\" class=\"dataframe\">\n",
              "  <thead>\n",
              "    <tr style=\"text-align: right;\">\n",
              "      <th></th>\n",
              "      <th>b_l</th>\n",
              "      <th>r_f</th>\n",
              "      <th>h_l</th>\n",
              "      <th>h_c</th>\n",
              "      <th>c_l</th>\n",
              "      <th>type</th>\n",
              "    </tr>\n",
              "  </thead>\n",
              "  <tbody>\n",
              "    <tr>\n",
              "      <th>0</th>\n",
              "      <td>0.354512</td>\n",
              "      <td>0.350839</td>\n",
              "      <td>0.465761</td>\n",
              "      <td>0.781142</td>\n",
              "      <td>3</td>\n",
              "      <td>1</td>\n",
              "    </tr>\n",
              "    <tr>\n",
              "      <th>1</th>\n",
              "      <td>0.575560</td>\n",
              "      <td>0.425868</td>\n",
              "      <td>0.531401</td>\n",
              "      <td>0.439899</td>\n",
              "      <td>4</td>\n",
              "      <td>2</td>\n",
              "    </tr>\n",
              "    <tr>\n",
              "      <th>2</th>\n",
              "      <td>0.467875</td>\n",
              "      <td>0.354330</td>\n",
              "      <td>0.811616</td>\n",
              "      <td>0.791225</td>\n",
              "      <td>0</td>\n",
              "      <td>1</td>\n",
              "    </tr>\n",
              "    <tr>\n",
              "      <th>3</th>\n",
              "      <td>0.776652</td>\n",
              "      <td>0.508723</td>\n",
              "      <td>0.636766</td>\n",
              "      <td>0.884464</td>\n",
              "      <td>0</td>\n",
              "      <td>1</td>\n",
              "    </tr>\n",
              "    <tr>\n",
              "      <th>4</th>\n",
              "      <td>0.566117</td>\n",
              "      <td>0.875862</td>\n",
              "      <td>0.418594</td>\n",
              "      <td>0.636438</td>\n",
              "      <td>4</td>\n",
              "      <td>0</td>\n",
              "    </tr>\n",
              "    <tr>\n",
              "      <th>5</th>\n",
              "      <td>0.405680</td>\n",
              "      <td>0.253277</td>\n",
              "      <td>0.441420</td>\n",
              "      <td>0.280324</td>\n",
              "      <td>4</td>\n",
              "      <td>2</td>\n",
              "    </tr>\n",
              "    <tr>\n",
              "      <th>6</th>\n",
              "      <td>0.399331</td>\n",
              "      <td>0.568952</td>\n",
              "      <td>0.618391</td>\n",
              "      <td>0.467901</td>\n",
              "      <td>5</td>\n",
              "      <td>2</td>\n",
              "    </tr>\n",
              "    <tr>\n",
              "      <th>7</th>\n",
              "      <td>0.516224</td>\n",
              "      <td>0.536429</td>\n",
              "      <td>0.612776</td>\n",
              "      <td>0.468048</td>\n",
              "      <td>3</td>\n",
              "      <td>1</td>\n",
              "    </tr>\n",
              "    <tr>\n",
              "      <th>8</th>\n",
              "      <td>0.314295</td>\n",
              "      <td>0.671280</td>\n",
              "      <td>0.417267</td>\n",
              "      <td>0.227548</td>\n",
              "      <td>2</td>\n",
              "      <td>0</td>\n",
              "    </tr>\n",
              "    <tr>\n",
              "      <th>9</th>\n",
              "      <td>0.280942</td>\n",
              "      <td>0.701457</td>\n",
              "      <td>0.179633</td>\n",
              "      <td>0.141183</td>\n",
              "      <td>5</td>\n",
              "      <td>0</td>\n",
              "    </tr>\n",
              "  </tbody>\n",
              "</table>\n",
              "</div>"
            ],
            "text/plain": [
              "        b_l       r_f       h_l       h_c  c_l  type\n",
              "0  0.354512  0.350839  0.465761  0.781142    3     1\n",
              "1  0.575560  0.425868  0.531401  0.439899    4     2\n",
              "2  0.467875  0.354330  0.811616  0.791225    0     1\n",
              "3  0.776652  0.508723  0.636766  0.884464    0     1\n",
              "4  0.566117  0.875862  0.418594  0.636438    4     0\n",
              "5  0.405680  0.253277  0.441420  0.280324    4     2\n",
              "6  0.399331  0.568952  0.618391  0.467901    5     2\n",
              "7  0.516224  0.536429  0.612776  0.468048    3     1\n",
              "8  0.314295  0.671280  0.417267  0.227548    2     0\n",
              "9  0.280942  0.701457  0.179633  0.141183    5     0"
            ]
          },
          "metadata": {
            "tags": []
          },
          "execution_count": 35
        }
      ]
    },
    {
      "cell_type": "markdown",
      "metadata": {
        "id": "PhtGeajOVkn8",
        "colab_type": "text"
      },
      "source": [
        "KNN"
      ]
    },
    {
      "cell_type": "code",
      "metadata": {
        "id": "9lMbVRY-VLYr",
        "colab_type": "code",
        "colab": {}
      },
      "source": [
        "#Create KNN Object\n",
        "knn = KNeighborsClassifier()"
      ],
      "execution_count": 36,
      "outputs": []
    },
    {
      "cell_type": "code",
      "metadata": {
        "id": "Gel1y6jDVlns",
        "colab_type": "code",
        "colab": {}
      },
      "source": [
        "#Create x and y variable\n",
        "x = data_set.drop(columns=['type'])\n",
        "y = data_set['type']"
      ],
      "execution_count": 37,
      "outputs": []
    },
    {
      "cell_type": "code",
      "metadata": {
        "id": "WpWoyXltVwm6",
        "colab_type": "code",
        "colab": {}
      },
      "source": [
        "#Split data\n",
        "x_train, x_test, y_train, y_test = train_test_split(x, y, test_size=0.2, random_state=4)"
      ],
      "execution_count": 38,
      "outputs": []
    },
    {
      "cell_type": "code",
      "metadata": {
        "id": "GGljZqgIV2vC",
        "colab_type": "code",
        "colab": {
          "base_uri": "https://localhost:8080/",
          "height": 69
        },
        "outputId": "c6b0858b-8674-4adc-c703-ce475c3f12cf"
      },
      "source": [
        "#Training the model\n",
        "knn.fit(x_train, y_train)"
      ],
      "execution_count": 39,
      "outputs": [
        {
          "output_type": "execute_result",
          "data": {
            "text/plain": [
              "KNeighborsClassifier(algorithm='auto', leaf_size=30, metric='minkowski',\n",
              "                     metric_params=None, n_jobs=None, n_neighbors=5, p=2,\n",
              "                     weights='uniform')"
            ]
          },
          "metadata": {
            "tags": []
          },
          "execution_count": 39
        }
      ]
    },
    {
      "cell_type": "code",
      "metadata": {
        "id": "Zm4eL9CGV4nk",
        "colab_type": "code",
        "colab": {}
      },
      "source": [
        "#Predict testing set\n",
        "y_pred = knn.predict(x_test)"
      ],
      "execution_count": 40,
      "outputs": []
    },
    {
      "cell_type": "code",
      "metadata": {
        "id": "TzW33j1CV6xP",
        "colab_type": "code",
        "colab": {
          "base_uri": "https://localhost:8080/",
          "height": 34
        },
        "outputId": "3793e8d1-6cd2-4c4b-c9c5-537dda7d635b"
      },
      "source": [
        "#Check performance using accuracy\n",
        "print(\"Accuracy : \",accuracy_score(y_test, y_pred))"
      ],
      "execution_count": 41,
      "outputs": [
        {
          "output_type": "stream",
          "text": [
            "Accuracy :  0.6533333333333333\n"
          ],
          "name": "stdout"
        }
      ]
    },
    {
      "cell_type": "markdown",
      "metadata": {
        "id": "aRlJqHANWUyZ",
        "colab_type": "text"
      },
      "source": [
        "# Cross validate the classifier and print the results (number of True Positives, True Negatives, False Positives and False Negatives, Accuracy, Precision, Recall) "
      ]
    },
    {
      "cell_type": "code",
      "metadata": {
        "id": "wdTpDZlIV8qA",
        "colab_type": "code",
        "colab": {
          "base_uri": "https://localhost:8080/",
          "height": 69
        },
        "outputId": "24676854-b800-47d0-c743-df1f35d8abac"
      },
      "source": [
        "confusion_matrix(y_test, y_pred)"
      ],
      "execution_count": 42,
      "outputs": [
        {
          "output_type": "execute_result",
          "data": {
            "text/plain": [
              "array([[23,  0,  2],\n",
              "       [ 0, 15, 14],\n",
              "       [ 4,  6, 11]])"
            ]
          },
          "metadata": {
            "tags": []
          },
          "execution_count": 42
        }
      ]
    },
    {
      "cell_type": "code",
      "metadata": {
        "id": "XJp51dm6XbEe",
        "colab_type": "code",
        "colab": {
          "base_uri": "https://localhost:8080/",
          "height": 282
        },
        "outputId": "e22ecd7b-830b-4421-8c95-8ca7ec51ee11"
      },
      "source": [
        "import seaborn as sns\n",
        "sns.heatmap(confusion_matrix(y_test, y_pred),  annot=True)"
      ],
      "execution_count": 43,
      "outputs": [
        {
          "output_type": "execute_result",
          "data": {
            "text/plain": [
              "<matplotlib.axes._subplots.AxesSubplot at 0x7f2ff8a1a940>"
            ]
          },
          "metadata": {
            "tags": []
          },
          "execution_count": 43
        },
        {
          "output_type": "display_data",
          "data": {
            "image/png": "[encoded data removed]",
            "text/plain": [
              "<Figure size 432x288 with 2 Axes>"
            ]
          },
          "metadata": {
            "tags": [],
            "needs_background": "light"
          }
        }
      ]
    },
    {
      "cell_type": "code",
      "metadata": {
        "id": "sd7k-ho6WAsx",
        "colab_type": "code",
        "colab": {
          "base_uri": "https://localhost:8080/",
          "height": 89
        },
        "outputId": "890eeb83-3a78-4964-d990-03fa82b9f891"
      },
      "source": [
        "precision_score(y_test, y_pred,pos_label='positive', average='micro')"
      ],
      "execution_count": 49,
      "outputs": [
        {
          "output_type": "stream",
          "text": [
            "/usr/local/lib/python3.6/dist-packages/sklearn/metrics/_classification.py:1321: UserWarning: Note that pos_label (set to 'positive') is ignored when average != 'binary' (got 'micro'). You may use labels=[pos_label] to specify a single positive class.\n",
            "  % (pos_label, average), UserWarning)\n"
          ],
          "name": "stderr"
        },
        {
          "output_type": "execute_result",
          "data": {
            "text/plain": [
              "0.6533333333333333"
            ]
          },
          "metadata": {
            "tags": []
          },
          "execution_count": 49
        }
      ]
    },
    {
      "cell_type": "code",
      "metadata": {
        "id": "_sD6E8a-WnY5",
        "colab_type": "code",
        "colab": {
          "base_uri": "https://localhost:8080/",
          "height": 89
        },
        "outputId": "c1673664-b38b-4c62-b14f-457ea11e2e00"
      },
      "source": [
        "recall_score(y_test, y_pred,pos_label='positive', average='micro')"
      ],
      "execution_count": 50,
      "outputs": [
        {
          "output_type": "stream",
          "text": [
            "/usr/local/lib/python3.6/dist-packages/sklearn/metrics/_classification.py:1321: UserWarning: Note that pos_label (set to 'positive') is ignored when average != 'binary' (got 'micro'). You may use labels=[pos_label] to specify a single positive class.\n",
            "  % (pos_label, average), UserWarning)\n"
          ],
          "name": "stderr"
        },
        {
          "output_type": "execute_result",
          "data": {
            "text/plain": [
              "0.6533333333333333"
            ]
          },
          "metadata": {
            "tags": []
          },
          "execution_count": 50
        }
      ]
    },
    {
      "cell_type": "code",
      "metadata": {
        "id": "jAsKbyVrWo26",
        "colab_type": "code",
        "colab": {}
      },
      "source": [
        "from sklearn.metrics import classification_report\n",
        "report = classification_report(y_test, y_test)"
      ],
      "execution_count": 46,
      "outputs": []
    },
    {
      "cell_type": "code",
      "metadata": {
        "id": "u2e14IdMa3IX",
        "colab_type": "code",
        "colab": {
          "base_uri": "https://localhost:8080/",
          "height": 191
        },
        "outputId": "b32d3081-bda4-4f53-c0b1-d27de1606710"
      },
      "source": [
        "print(report)"
      ],
      "execution_count": 47,
      "outputs": [
        {
          "output_type": "stream",
          "text": [
            "              precision    recall  f1-score   support\n",
            "\n",
            "           0       1.00      1.00      1.00        25\n",
            "           1       1.00      1.00      1.00        29\n",
            "           2       1.00      1.00      1.00        21\n",
            "\n",
            "    accuracy                           1.00        75\n",
            "   macro avg       1.00      1.00      1.00        75\n",
            "weighted avg       1.00      1.00      1.00        75\n",
            "\n"
          ],
          "name": "stdout"
        }
      ]
    },
    {
      "cell_type": "code",
      "metadata": {
        "id": "IEhlKAbDbYy6",
        "colab_type": "code",
        "colab": {}
      },
      "source": [
        ""
      ],
      "execution_count": 47,
      "outputs": []
    }
  ]
}